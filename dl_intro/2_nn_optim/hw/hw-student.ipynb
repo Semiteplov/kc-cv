{
 "cells": [
  {
   "cell_type": "markdown",
   "metadata": {},
   "source": [
    "# Домашнее задание 2\n",
    "\n",
    "В этом задании:\n",
    "\n",
    "1. Сделаем регрессию над данными через scikit-learn: сначала через регресию, потом через бустинг.\n",
    "2. Сравним результаты с константным предсказанием.\n",
    "3. Сделаем нейронную сеть на полносвязных слоях, обучим над теми же данными - и сравним с лин. регрессией и бустингом.\n",
    "\n"
   ]
  },
  {
   "cell_type": "code",
   "metadata": {
    "ExecuteTime": {
     "end_time": "2025-01-25T14:51:08.602674Z",
     "start_time": "2025-01-25T14:51:08.217994Z"
    }
   },
   "source": [
    "import random\n",
    "\n",
    "import numpy as np\n",
    "import pandas as pd\n",
    "\n",
    "# Для воспроизводимости\n",
    "seed = 0\n",
    "np.random.seed(seed)\n",
    "random.seed(seed)"
   ],
   "outputs": [],
   "execution_count": 1
  },
  {
   "cell_type": "code",
   "metadata": {
    "ExecuteTime": {
     "end_time": "2025-01-25T14:51:09.231615Z",
     "start_time": "2025-01-25T14:51:09.223071Z"
    }
   },
   "source": [
    "df = pd.read_csv(\"insurance.csv\")"
   ],
   "outputs": [],
   "execution_count": 2
  },
  {
   "cell_type": "markdown",
   "metadata": {},
   "source": [
    "### Задание №1:\n",
    "Cделайте train/test split на данных в пропорции 0.2/0.8, залейте в лмс код, который в `df_train`, `df_test`\n",
    "сохранит датафрейм с тренировочными и тестовыми данными соответственно.\n",
    "\n",
    "P.S Использовать train_test_split из scikit-learn запрещено - разбивайте вручную через индексы."
   ]
  },
  {
   "cell_type": "code",
   "metadata": {
    "ExecuteTime": {
     "end_time": "2025-01-25T14:51:11.588972Z",
     "start_time": "2025-01-25T14:51:11.582968Z"
    }
   },
   "source": [
    "idx_test = np.random.randint(0, df.shape[0], int(0.2 * df.shape[0]))\n",
    "df_test = df.iloc[idx_test]\n",
    "df_train = df.drop(index=idx_test)"
   ],
   "outputs": [],
   "execution_count": 3
  },
  {
   "cell_type": "markdown",
   "metadata": {},
   "source": [
    "### Задание №2:\n",
    "Сделайте `OHE` на колонки sex, region, smoker.\n",
    "\n",
    "Нужно сделать как на train, так и на test датасете.\n",
    "Считайте, что исходные датафреймы сохранены в `df_train` и `df_test`.\n",
    "При этом в `df_train`, `df_test` должны остаться старые колонки - т.е. его нужно обогатить.\n"
   ]
  },
  {
   "cell_type": "code",
   "metadata": {
    "ExecuteTime": {
     "end_time": "2025-01-25T14:51:13.220142Z",
     "start_time": "2025-01-25T14:51:12.756608Z"
    }
   },
   "source": [
    "from sklearn.preprocessing import OneHotEncoder\n",
    "\n",
    "columns_to_encode = ['sex', 'region', 'smoker']\n",
    "ohe = OneHotEncoder()\n",
    "\n",
    "train_encoded = ohe.fit_transform(df_train[columns_to_encode])\n",
    "test_encoded = ohe.transform(df_test[columns_to_encode])\n",
    "\n",
    "encoded_columns = ohe.get_feature_names_out(columns_to_encode)\n",
    "\n",
    "train_encoded_df = pd.DataFrame(train_encoded.toarray(), columns=encoded_columns, index=df_train.index)\n",
    "test_encoded_df = pd.DataFrame(test_encoded.toarray(), columns=encoded_columns, index=df_test.index)\n",
    "\n",
    "df_train = pd.concat([df_train, train_encoded_df], axis=1)\n",
    "df_test = pd.concat([df_test, test_encoded_df], axis=1)\n",
    "\n",
    "print(df_train.columns)\n",
    "print(df_test.columns)"
   ],
   "outputs": [
    {
     "name": "stdout",
     "output_type": "stream",
     "text": [
      "Index(['age', 'sex', 'bmi', 'children', 'smoker', 'region', 'charges',\n",
      "       'sex_female', 'sex_male', 'region_northeast', 'region_northwest',\n",
      "       'region_southeast', 'region_southwest', 'smoker_no', 'smoker_yes'],\n",
      "      dtype='object')\n",
      "Index(['age', 'sex', 'bmi', 'children', 'smoker', 'region', 'charges',\n",
      "       'sex_female', 'sex_male', 'region_northeast', 'region_northwest',\n",
      "       'region_southeast', 'region_southwest', 'smoker_no', 'smoker_yes'],\n",
      "      dtype='object')\n"
     ]
    }
   ],
   "execution_count": 4
  },
  {
   "cell_type": "code",
   "execution_count": 5,
   "metadata": {},
   "outputs": [],
   "source": []
  },
  {
   "cell_type": "markdown",
   "metadata": {},
   "source": [
    "### Задание №4:\n",
    "Нормализуйте колонки, которые вы отметили в квизе.\n",
    "Считайте, что исходные датафреймы сохранены в `df_train` и `df_test`.\n",
    "\n",
    "Сдайте код, который модифицирует `df_train` и `df_test` так, чтобы численные колонки из прошлого пункта стали нормированы."
   ]
  },
  {
   "metadata": {
    "ExecuteTime": {
     "end_time": "2025-01-25T14:51:14.848989Z",
     "start_time": "2025-01-25T14:51:14.836802Z"
    }
   },
   "cell_type": "code",
   "source": [
    "num_cols = ['age', 'bmi', 'charges']\n",
    "df_train[num_cols]"
   ],
   "outputs": [
    {
     "data": {
      "text/plain": [
       "      age     bmi      charges\n",
       "0      19  27.900  16884.92400\n",
       "1      18  33.770   1725.55230\n",
       "2      28  33.000   4449.46200\n",
       "3      33  22.705  21984.47061\n",
       "4      32  28.880   3866.85520\n",
       "...   ...     ...          ...\n",
       "1333   50  30.970  10600.54830\n",
       "1334   18  31.920   2205.98080\n",
       "1335   18  36.850   1629.83350\n",
       "1336   21  25.800   2007.94500\n",
       "1337   61  29.070  29141.36030\n",
       "\n",
       "[1097 rows x 3 columns]"
      ],
      "text/html": [
       "<div>\n",
       "<style scoped>\n",
       "    .dataframe tbody tr th:only-of-type {\n",
       "        vertical-align: middle;\n",
       "    }\n",
       "\n",
       "    .dataframe tbody tr th {\n",
       "        vertical-align: top;\n",
       "    }\n",
       "\n",
       "    .dataframe thead th {\n",
       "        text-align: right;\n",
       "    }\n",
       "</style>\n",
       "<table border=\"1\" class=\"dataframe\">\n",
       "  <thead>\n",
       "    <tr style=\"text-align: right;\">\n",
       "      <th></th>\n",
       "      <th>age</th>\n",
       "      <th>bmi</th>\n",
       "      <th>charges</th>\n",
       "    </tr>\n",
       "  </thead>\n",
       "  <tbody>\n",
       "    <tr>\n",
       "      <th>0</th>\n",
       "      <td>19</td>\n",
       "      <td>27.900</td>\n",
       "      <td>16884.92400</td>\n",
       "    </tr>\n",
       "    <tr>\n",
       "      <th>1</th>\n",
       "      <td>18</td>\n",
       "      <td>33.770</td>\n",
       "      <td>1725.55230</td>\n",
       "    </tr>\n",
       "    <tr>\n",
       "      <th>2</th>\n",
       "      <td>28</td>\n",
       "      <td>33.000</td>\n",
       "      <td>4449.46200</td>\n",
       "    </tr>\n",
       "    <tr>\n",
       "      <th>3</th>\n",
       "      <td>33</td>\n",
       "      <td>22.705</td>\n",
       "      <td>21984.47061</td>\n",
       "    </tr>\n",
       "    <tr>\n",
       "      <th>4</th>\n",
       "      <td>32</td>\n",
       "      <td>28.880</td>\n",
       "      <td>3866.85520</td>\n",
       "    </tr>\n",
       "    <tr>\n",
       "      <th>...</th>\n",
       "      <td>...</td>\n",
       "      <td>...</td>\n",
       "      <td>...</td>\n",
       "    </tr>\n",
       "    <tr>\n",
       "      <th>1333</th>\n",
       "      <td>50</td>\n",
       "      <td>30.970</td>\n",
       "      <td>10600.54830</td>\n",
       "    </tr>\n",
       "    <tr>\n",
       "      <th>1334</th>\n",
       "      <td>18</td>\n",
       "      <td>31.920</td>\n",
       "      <td>2205.98080</td>\n",
       "    </tr>\n",
       "    <tr>\n",
       "      <th>1335</th>\n",
       "      <td>18</td>\n",
       "      <td>36.850</td>\n",
       "      <td>1629.83350</td>\n",
       "    </tr>\n",
       "    <tr>\n",
       "      <th>1336</th>\n",
       "      <td>21</td>\n",
       "      <td>25.800</td>\n",
       "      <td>2007.94500</td>\n",
       "    </tr>\n",
       "    <tr>\n",
       "      <th>1337</th>\n",
       "      <td>61</td>\n",
       "      <td>29.070</td>\n",
       "      <td>29141.36030</td>\n",
       "    </tr>\n",
       "  </tbody>\n",
       "</table>\n",
       "<p>1097 rows × 3 columns</p>\n",
       "</div>"
      ]
     },
     "execution_count": 5,
     "metadata": {},
     "output_type": "execute_result"
    }
   ],
   "execution_count": 5
  },
  {
   "metadata": {
    "ExecuteTime": {
     "end_time": "2025-01-25T14:51:16.354900Z",
     "start_time": "2025-01-25T14:51:16.347302Z"
    }
   },
   "cell_type": "code",
   "source": [
    "train_mean = df_train[num_cols].mean()\n",
    "train_std = df_train[num_cols].std()\n",
    "df_train[num_cols] = (df_train[num_cols] - train_mean) / train_std\n",
    "df_test[num_cols] = (df_test[num_cols] - train_mean) / train_std"
   ],
   "outputs": [],
   "execution_count": 6
  },
  {
   "cell_type": "code",
   "metadata": {
    "ExecuteTime": {
     "end_time": "2025-01-25T14:51:19.170641Z",
     "start_time": "2025-01-25T14:51:19.165948Z"
    }
   },
   "source": [
    "y_train = df_train.pop(\"charges\")\n",
    "y_test = df_test.pop(\"charges\")"
   ],
   "outputs": [],
   "execution_count": 7
  },
  {
   "cell_type": "markdown",
   "metadata": {},
   "source": [
    "### Задание №5\n",
    "Реализуйте функцию, считающую `MSE` метрику.\n",
    "\n",
    "Ваша функция должна уметь принимать torch.Tensor, numpy-массивы и pd.Series."
   ]
  },
  {
   "cell_type": "code",
   "metadata": {
    "ExecuteTime": {
     "end_time": "2025-01-25T15:08:17.074174Z",
     "start_time": "2025-01-25T15:08:17.071159Z"
    }
   },
   "source": [
    "def metric(preds, y):\n",
    "    return ((preds - y) ** 2).mean()"
   ],
   "outputs": [],
   "execution_count": 15
  },
  {
   "cell_type": "markdown",
   "metadata": {},
   "source": [
    "### Задание №6\n",
    "Реализуйте бейзлайн на `LinearRegression` и `GradientBoostingRegressor`, отправьте метрики на _тестовой выборке_ в ЛМС.\n",
    "\n",
    "Используйте гиперпараметры по-умолчанию в обоих моделях."
   ]
  },
  {
   "metadata": {
    "ExecuteTime": {
     "end_time": "2025-01-25T15:07:21.666125Z",
     "start_time": "2025-01-25T15:07:21.647275Z"
    }
   },
   "cell_type": "code",
   "source": "df_train",
   "outputs": [
    {
     "data": {
      "text/plain": [
       "           age     sex       bmi  children smoker     region  sex_female  \\\n",
       "0    -1.422596  female -0.470495         0    yes  southwest         1.0   \n",
       "1    -1.493645    male  0.496994         1     no  southeast         0.0   \n",
       "2    -0.783156    male  0.370083         3     no  southeast         0.0   \n",
       "3    -0.427912    male -1.326732         0     no  northwest         0.0   \n",
       "4    -0.498961    male -0.308972         0     no  northwest         0.0   \n",
       "...        ...     ...       ...       ...    ...        ...         ...   \n",
       "1333  0.779918    male  0.035500         3     no  northwest         0.0   \n",
       "1334 -1.493645  female  0.192078         0     no  northeast         1.0   \n",
       "1335 -1.493645  female  1.004638         0     no  southeast         1.0   \n",
       "1336 -1.280498  female -0.816616         0     no  southwest         1.0   \n",
       "1337  1.561455  female -0.277657         0    yes  northwest         1.0   \n",
       "\n",
       "      sex_male  region_northeast  region_northwest  region_southeast  \\\n",
       "0          0.0               0.0               0.0               0.0   \n",
       "1          1.0               0.0               0.0               1.0   \n",
       "2          1.0               0.0               0.0               1.0   \n",
       "3          1.0               0.0               1.0               0.0   \n",
       "4          1.0               0.0               1.0               0.0   \n",
       "...        ...               ...               ...               ...   \n",
       "1333       1.0               0.0               1.0               0.0   \n",
       "1334       0.0               1.0               0.0               0.0   \n",
       "1335       0.0               0.0               0.0               1.0   \n",
       "1336       0.0               0.0               0.0               0.0   \n",
       "1337       0.0               0.0               1.0               0.0   \n",
       "\n",
       "      region_southwest  smoker_no  smoker_yes  \n",
       "0                  1.0        0.0         1.0  \n",
       "1                  0.0        1.0         0.0  \n",
       "2                  0.0        1.0         0.0  \n",
       "3                  0.0        1.0         0.0  \n",
       "4                  0.0        1.0         0.0  \n",
       "...                ...        ...         ...  \n",
       "1333               0.0        1.0         0.0  \n",
       "1334               0.0        1.0         0.0  \n",
       "1335               0.0        1.0         0.0  \n",
       "1336               1.0        1.0         0.0  \n",
       "1337               0.0        0.0         1.0  \n",
       "\n",
       "[1097 rows x 14 columns]"
      ],
      "text/html": [
       "<div>\n",
       "<style scoped>\n",
       "    .dataframe tbody tr th:only-of-type {\n",
       "        vertical-align: middle;\n",
       "    }\n",
       "\n",
       "    .dataframe tbody tr th {\n",
       "        vertical-align: top;\n",
       "    }\n",
       "\n",
       "    .dataframe thead th {\n",
       "        text-align: right;\n",
       "    }\n",
       "</style>\n",
       "<table border=\"1\" class=\"dataframe\">\n",
       "  <thead>\n",
       "    <tr style=\"text-align: right;\">\n",
       "      <th></th>\n",
       "      <th>age</th>\n",
       "      <th>sex</th>\n",
       "      <th>bmi</th>\n",
       "      <th>children</th>\n",
       "      <th>smoker</th>\n",
       "      <th>region</th>\n",
       "      <th>sex_female</th>\n",
       "      <th>sex_male</th>\n",
       "      <th>region_northeast</th>\n",
       "      <th>region_northwest</th>\n",
       "      <th>region_southeast</th>\n",
       "      <th>region_southwest</th>\n",
       "      <th>smoker_no</th>\n",
       "      <th>smoker_yes</th>\n",
       "    </tr>\n",
       "  </thead>\n",
       "  <tbody>\n",
       "    <tr>\n",
       "      <th>0</th>\n",
       "      <td>-1.422596</td>\n",
       "      <td>female</td>\n",
       "      <td>-0.470495</td>\n",
       "      <td>0</td>\n",
       "      <td>yes</td>\n",
       "      <td>southwest</td>\n",
       "      <td>1.0</td>\n",
       "      <td>0.0</td>\n",
       "      <td>0.0</td>\n",
       "      <td>0.0</td>\n",
       "      <td>0.0</td>\n",
       "      <td>1.0</td>\n",
       "      <td>0.0</td>\n",
       "      <td>1.0</td>\n",
       "    </tr>\n",
       "    <tr>\n",
       "      <th>1</th>\n",
       "      <td>-1.493645</td>\n",
       "      <td>male</td>\n",
       "      <td>0.496994</td>\n",
       "      <td>1</td>\n",
       "      <td>no</td>\n",
       "      <td>southeast</td>\n",
       "      <td>0.0</td>\n",
       "      <td>1.0</td>\n",
       "      <td>0.0</td>\n",
       "      <td>0.0</td>\n",
       "      <td>1.0</td>\n",
       "      <td>0.0</td>\n",
       "      <td>1.0</td>\n",
       "      <td>0.0</td>\n",
       "    </tr>\n",
       "    <tr>\n",
       "      <th>2</th>\n",
       "      <td>-0.783156</td>\n",
       "      <td>male</td>\n",
       "      <td>0.370083</td>\n",
       "      <td>3</td>\n",
       "      <td>no</td>\n",
       "      <td>southeast</td>\n",
       "      <td>0.0</td>\n",
       "      <td>1.0</td>\n",
       "      <td>0.0</td>\n",
       "      <td>0.0</td>\n",
       "      <td>1.0</td>\n",
       "      <td>0.0</td>\n",
       "      <td>1.0</td>\n",
       "      <td>0.0</td>\n",
       "    </tr>\n",
       "    <tr>\n",
       "      <th>3</th>\n",
       "      <td>-0.427912</td>\n",
       "      <td>male</td>\n",
       "      <td>-1.326732</td>\n",
       "      <td>0</td>\n",
       "      <td>no</td>\n",
       "      <td>northwest</td>\n",
       "      <td>0.0</td>\n",
       "      <td>1.0</td>\n",
       "      <td>0.0</td>\n",
       "      <td>1.0</td>\n",
       "      <td>0.0</td>\n",
       "      <td>0.0</td>\n",
       "      <td>1.0</td>\n",
       "      <td>0.0</td>\n",
       "    </tr>\n",
       "    <tr>\n",
       "      <th>4</th>\n",
       "      <td>-0.498961</td>\n",
       "      <td>male</td>\n",
       "      <td>-0.308972</td>\n",
       "      <td>0</td>\n",
       "      <td>no</td>\n",
       "      <td>northwest</td>\n",
       "      <td>0.0</td>\n",
       "      <td>1.0</td>\n",
       "      <td>0.0</td>\n",
       "      <td>1.0</td>\n",
       "      <td>0.0</td>\n",
       "      <td>0.0</td>\n",
       "      <td>1.0</td>\n",
       "      <td>0.0</td>\n",
       "    </tr>\n",
       "    <tr>\n",
       "      <th>...</th>\n",
       "      <td>...</td>\n",
       "      <td>...</td>\n",
       "      <td>...</td>\n",
       "      <td>...</td>\n",
       "      <td>...</td>\n",
       "      <td>...</td>\n",
       "      <td>...</td>\n",
       "      <td>...</td>\n",
       "      <td>...</td>\n",
       "      <td>...</td>\n",
       "      <td>...</td>\n",
       "      <td>...</td>\n",
       "      <td>...</td>\n",
       "      <td>...</td>\n",
       "    </tr>\n",
       "    <tr>\n",
       "      <th>1333</th>\n",
       "      <td>0.779918</td>\n",
       "      <td>male</td>\n",
       "      <td>0.035500</td>\n",
       "      <td>3</td>\n",
       "      <td>no</td>\n",
       "      <td>northwest</td>\n",
       "      <td>0.0</td>\n",
       "      <td>1.0</td>\n",
       "      <td>0.0</td>\n",
       "      <td>1.0</td>\n",
       "      <td>0.0</td>\n",
       "      <td>0.0</td>\n",
       "      <td>1.0</td>\n",
       "      <td>0.0</td>\n",
       "    </tr>\n",
       "    <tr>\n",
       "      <th>1334</th>\n",
       "      <td>-1.493645</td>\n",
       "      <td>female</td>\n",
       "      <td>0.192078</td>\n",
       "      <td>0</td>\n",
       "      <td>no</td>\n",
       "      <td>northeast</td>\n",
       "      <td>1.0</td>\n",
       "      <td>0.0</td>\n",
       "      <td>1.0</td>\n",
       "      <td>0.0</td>\n",
       "      <td>0.0</td>\n",
       "      <td>0.0</td>\n",
       "      <td>1.0</td>\n",
       "      <td>0.0</td>\n",
       "    </tr>\n",
       "    <tr>\n",
       "      <th>1335</th>\n",
       "      <td>-1.493645</td>\n",
       "      <td>female</td>\n",
       "      <td>1.004638</td>\n",
       "      <td>0</td>\n",
       "      <td>no</td>\n",
       "      <td>southeast</td>\n",
       "      <td>1.0</td>\n",
       "      <td>0.0</td>\n",
       "      <td>0.0</td>\n",
       "      <td>0.0</td>\n",
       "      <td>1.0</td>\n",
       "      <td>0.0</td>\n",
       "      <td>1.0</td>\n",
       "      <td>0.0</td>\n",
       "    </tr>\n",
       "    <tr>\n",
       "      <th>1336</th>\n",
       "      <td>-1.280498</td>\n",
       "      <td>female</td>\n",
       "      <td>-0.816616</td>\n",
       "      <td>0</td>\n",
       "      <td>no</td>\n",
       "      <td>southwest</td>\n",
       "      <td>1.0</td>\n",
       "      <td>0.0</td>\n",
       "      <td>0.0</td>\n",
       "      <td>0.0</td>\n",
       "      <td>0.0</td>\n",
       "      <td>1.0</td>\n",
       "      <td>1.0</td>\n",
       "      <td>0.0</td>\n",
       "    </tr>\n",
       "    <tr>\n",
       "      <th>1337</th>\n",
       "      <td>1.561455</td>\n",
       "      <td>female</td>\n",
       "      <td>-0.277657</td>\n",
       "      <td>0</td>\n",
       "      <td>yes</td>\n",
       "      <td>northwest</td>\n",
       "      <td>1.0</td>\n",
       "      <td>0.0</td>\n",
       "      <td>0.0</td>\n",
       "      <td>1.0</td>\n",
       "      <td>0.0</td>\n",
       "      <td>0.0</td>\n",
       "      <td>0.0</td>\n",
       "      <td>1.0</td>\n",
       "    </tr>\n",
       "  </tbody>\n",
       "</table>\n",
       "<p>1097 rows × 14 columns</p>\n",
       "</div>"
      ]
     },
     "execution_count": 11,
     "metadata": {},
     "output_type": "execute_result"
    }
   ],
   "execution_count": 11
  },
  {
   "cell_type": "code",
   "metadata": {
    "ExecuteTime": {
     "end_time": "2025-01-25T15:13:08.183227Z",
     "start_time": "2025-01-25T15:13:08.055965Z"
    }
   },
   "source": [
    "from sklearn.linear_model import LinearRegression\n",
    "from sklearn.ensemble import GradientBoostingRegressor\n",
    "\n",
    "lr = LinearRegression()\n",
    "lr.fit(df_train.drop(columns=['sex', 'region', 'smoker']), y_train)\n",
    "print(metric(lr.predict(df_test.drop(columns=['sex', 'region', 'smoker'])), y_test))\n",
    "\n",
    "gb = GradientBoostingRegressor()\n",
    "gb.fit(df_train.drop(columns=['sex', 'region', 'smoker']), y_train)\n",
    "print(metric(gb.predict(df_test.drop(columns=['sex', 'region', 'smoker'])), y_test))\n",
    "\n",
    "# for model in (LinearRegression(), GradientBoostingRegressor()):\n",
    "#     model.fit(df_train.drop(columns=['sex', 'region', 'smoker']), y_train)\n",
    "#     preds = model.predict(df_test.drop(columns=['sex', 'region', 'smoker']))\n",
    "#     score = metric(preds, y_test)\n",
    "#     print(model, score)"
   ],
   "outputs": [
    {
     "name": "stdout",
     "output_type": "stream",
     "text": [
      "0.3295121966372632\n",
      "0.21326231867810302\n"
     ]
    }
   ],
   "execution_count": 20
  },
  {
   "cell_type": "markdown",
   "metadata": {},
   "source": [
    "### Задание №7\n",
    "Вычислите среднее значение целевой переменной на тренировочной выборке (train).\n",
    "\n",
    "Подсчитайте MSE при константном предсказании этим средним и отправьте его в ЛМС."
   ]
  },
  {
   "cell_type": "code",
   "metadata": {
    "ExecuteTime": {
     "end_time": "2025-01-25T15:15:13.854649Z",
     "start_time": "2025-01-25T15:15:13.849888Z"
    }
   },
   "source": [
    "dummy_score = metric(y_train.mean(), y_test)\n",
    "dummy_score"
   ],
   "outputs": [
    {
     "data": {
      "text/plain": [
       "1.1045869096529353"
      ]
     },
     "execution_count": 24,
     "metadata": {},
     "output_type": "execute_result"
    }
   ],
   "execution_count": 24
  },
  {
   "cell_type": "markdown",
   "metadata": {},
   "source": [
    "### Задание №8\n",
    "Создайте сеть, состоящую из одного слоя Linear, залейте в лмс код, который в `model` запишет вашу модель\n",
    "\n",
    "В качестве признаков используйте все колонки в текущем датасете, за исключением таргета"
   ]
  },
  {
   "cell_type": "code",
   "metadata": {
    "ExecuteTime": {
     "end_time": "2025-01-25T15:21:24.421486Z",
     "start_time": "2025-01-25T15:21:20.985924Z"
    }
   },
   "source": [
    "from torch import nn\n",
    "\n",
    "\n",
    "def build_model():\n",
    "    return nn.Linear(in_features=11, out_features=1)\n",
    "\n",
    "\n",
    "model = build_model()"
   ],
   "outputs": [],
   "execution_count": 27
  },
  {
   "cell_type": "code",
   "metadata": {
    "ExecuteTime": {
     "end_time": "2025-01-25T15:22:26.969794Z",
     "start_time": "2025-01-25T15:22:26.949919Z"
    }
   },
   "source": [
    "import torch\n",
    "\n",
    "torch.random.manual_seed(seed)\n",
    "t_x_train = torch.from_numpy(df_train.drop(columns=['sex', 'region', 'smoker']).to_numpy().astype(float)).to(dtype=torch.float32)\n",
    "t_y_train = torch.from_numpy(y_train.drop(columns=['sex', 'region', 'smoker']).to_numpy()).to(dtype=torch.float32)"
   ],
   "outputs": [],
   "execution_count": 29
  },
  {
   "cell_type": "markdown",
   "metadata": {},
   "source": [
    "### Задание №9\n",
    "Напишите функцию `train_loop`, которая будет учить модель по данным на 2к итераций.\n",
    "Считайте, что данные уже хранятся в переменных `t_x_train`, `t_y_train`.\n",
    "Ваша функция `train_loop` должна вернуть список из лоссов на каждой итерации (т.е. список длины 2000).\n",
    "\n",
    "Используйте `learning_rate=1e-2` в оптимизаторе.\n",
    "\n",
    "Для простоты за одну итерацию делайте проход вперед и проход назад на всех наших обучающих данных.\n",
    "Это будет полный градиентный спуск (не по батчам) - можем себе позволить, данных немного.\n",
    "\n",
    "_Подсказка 1_: Вам не обязательно учить модель на видеокарте, CPU будет достаточно.\n",
    "\n",
    "_Подсказка 2_: `tqdm` - это библиотека, которая рисует прогресс итераций"
   ]
  },
  {
   "metadata": {
    "ExecuteTime": {
     "end_time": "2025-01-25T15:34:04.031221Z",
     "start_time": "2025-01-25T15:34:04.026857Z"
    }
   },
   "cell_type": "code",
   "source": "t_x_train.squeeze(1).shape",
   "outputs": [
    {
     "data": {
      "text/plain": [
       "torch.Size([1097, 11])"
      ]
     },
     "execution_count": 39,
     "metadata": {},
     "output_type": "execute_result"
    }
   ],
   "execution_count": 39
  },
  {
   "cell_type": "code",
   "metadata": {
    "ExecuteTime": {
     "end_time": "2025-01-25T15:31:31.685050Z",
     "start_time": "2025-01-25T15:31:31.680324Z"
    }
   },
   "source": [
    "from tqdm import tqdm\n",
    "from torch.optim import Adam\n",
    "\n",
    "def metric(preds, y):\n",
    "    return ((preds - y) ** 2).mean()\n",
    "\n",
    "\n",
    "def train_loop(model: nn.Module) -> list[float]:\n",
    "    losses = []\n",
    "    optimizer = Adam(model.parameters(), lr=1e-2)\n",
    "\n",
    "    for _ in tqdm(range(2000)):\n",
    "        optimizer.zero_grad()\n",
    "        loss = metric(model(t_x_train), t_y_train)\n",
    "        loss.backward()\n",
    "        optimizer.step()\n",
    "\n",
    "        losses.append(loss.item())\n",
    "    return losses"
   ],
   "outputs": [],
   "execution_count": 30
  },
  {
   "cell_type": "markdown",
   "metadata": {},
   "source": [
    "### Задание №10\n",
    "Обучите модель, состоящую из одного слоя `Linear`.\n",
    "Приложите в ЛМС метрику `MSE` на тестовых данных.\n",
    "Используйте `learning_rate=1e-2` в оптимизаторе.\n",
    "\n",
    "Когда будете тестировать, не забудьте перенести тестовые данные в `torch.Tensor`"
   ]
  },
  {
   "cell_type": "code",
   "metadata": {
    "ExecuteTime": {
     "end_time": "2025-01-25T15:50:39.884224Z",
     "start_time": "2025-01-25T15:50:37.915616Z"
    }
   },
   "source": [
    "t_x_test = torch.from_numpy(df_test.drop(columns=['sex', 'region', 'smoker']).to_numpy().astype(float)).to(dtype=torch.float32)\n",
    "t_y_test = torch.from_numpy(y_test.to_numpy()).to(dtype=torch.float32)\n",
    "\n",
    "train_loop(model)\n",
    "with torch.no_grad():\n",
    "    y_pred = model(t_x_test)[:, 0]\n",
    "metric(y_pred, t_y_test)"
   ],
   "outputs": [
    {
     "name": "stderr",
     "output_type": "stream",
     "text": [
      "100%|██████████| 2000/2000 [00:01<00:00, 1021.08it/s]\n"
     ]
    },
    {
     "data": {
      "text/plain": [
       "tensor(1.4592)"
      ]
     },
     "execution_count": 44,
     "metadata": {},
     "output_type": "execute_result"
    }
   ],
   "execution_count": 44
  },
  {
   "cell_type": "markdown",
   "metadata": {},
   "source": [
    "### Задание №11\n",
    "Вам необходимо усложнить существующую нейронную сеть, добавив один скрытый слой. \n",
    "\n",
    "Используйте следующие параметры: \n",
    "\n",
    "Размерность скрытого слоя: 6 нейронов, функция активации -  `ReLU`\n",
    "\n",
    "Приложите в лмс код, который в переменную `model` запишет вашу модель"
   ]
  },
  {
   "cell_type": "code",
   "execution_count": 14,
   "metadata": {},
   "outputs": [],
   "source": [
    "def build_model():\n",
    "    hid_dim = 6\n",
    "    return nn.Sequential(\n",
    "        nn.Linear(in_features=11, out_features=hid_dim),\n",
    "        nn.ReLU(),\n",
    "        nn.Linear(hid_dim, 1),\n",
    "    )\n",
    "\n",
    "\n",
    "model = build_model()"
   ]
  },
  {
   "cell_type": "markdown",
   "metadata": {},
   "source": [
    "### Задание №12\n",
    "Приложите в ЛМС метрику качества этой сети после 2к итераций обучения.\n",
    "Эту модель можно обучить на CPU, не обязательно на видеокарте.\n",
    "\n",
    "Используйте для обучения ту же функцию `train_loop` с теми же параметрами (`learning rate`, число итераций и т.п.)"
   ]
  },
  {
   "cell_type": "code",
   "metadata": {
    "ExecuteTime": {
     "end_time": "2025-01-25T15:53:40.082580Z",
     "start_time": "2025-01-25T15:53:38.088517Z"
    }
   },
   "source": [
    "train_loop(model)\n",
    "with torch.no_grad():\n",
    "    y_pred = model(t_x_test)[:, 0]\n",
    "metric(y_pred, t_y_test)"
   ],
   "outputs": [
    {
     "name": "stderr",
     "output_type": "stream",
     "text": [
      "100%|██████████| 2000/2000 [00:01<00:00, 1007.24it/s]\n"
     ]
    },
    {
     "data": {
      "text/plain": [
       "tensor(1.4592)"
      ]
     },
     "execution_count": 45,
     "metadata": {},
     "output_type": "execute_result"
    }
   ],
   "execution_count": 45
  },
  {
   "cell_type": "markdown",
   "metadata": {},
   "source": [
    "### Задание №13\n",
    "Добавьте дополнительные слои в нейронную сеть\n",
    "\n",
    "Вам необходимо усложнить нейронную сеть, добавив еще 2-3 скрытых слоя с такими же размерностями, как в предыдущем задании.\n",
    "\n",
    "Приложите в лмс код, который в переменную `model` запишет вашу модель"
   ]
  },
  {
   "cell_type": "code",
   "execution_count": 16,
   "metadata": {},
   "outputs": [],
   "source": [
    "def build_model():\n",
    "    hid_dim = 6\n",
    "    return nn.Sequential(\n",
    "        nn.Linear(in_features=11, out_features=hid_dim),\n",
    "        nn.ReLU(),\n",
    "        nn.Linear(hid_dim, hid_dim),\n",
    "        nn.ReLU(),\n",
    "        nn.Linear(hid_dim, hid_dim),\n",
    "        nn.ReLU(),\n",
    "        nn.Linear(hid_dim, 1),\n",
    "    )\n",
    "\n",
    "\n",
    "model = build_model()"
   ]
  },
  {
   "cell_type": "markdown",
   "metadata": {},
   "source": [
    "### Задание №14\n",
    "Приложите в ЛМС метрику качества после 2к итераций обучения.\n",
    "\n",
    "Используйте для обучения ту же функцию `train_loop` с теми же параметрами (`learning rate`, число итераций и т.п.)\n",
    "\n",
    "Эту модель можно обучить на CPU, не обязательно на видеокарте."
   ]
  },
  {
   "cell_type": "code",
   "execution_count": 17,
   "metadata": {},
   "outputs": [],
   "source": []
  },
  {
   "cell_type": "code",
   "execution_count": 18,
   "metadata": {},
   "outputs": [],
   "source": []
  }
 ],
 "metadata": {
  "kernelspec": {
   "display_name": "start-dl-ph78tHa0-py3.10",
   "language": "python",
   "name": "python3"
  },
  "language_info": {
   "codemirror_mode": {
    "name": "ipython",
    "version": 3
   },
   "file_extension": ".py",
   "mimetype": "text/x-python",
   "name": "python",
   "nbconvert_exporter": "python",
   "pygments_lexer": "ipython3",
   "version": "3.10.15"
  }
 },
 "nbformat": 4,
 "nbformat_minor": 4
}
