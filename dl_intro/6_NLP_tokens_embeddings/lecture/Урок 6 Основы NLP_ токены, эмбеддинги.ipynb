{
 "cells": [
  {
   "cell_type": "markdown",
   "metadata": {},
   "source": [
    "# Урок 6"
   ]
  },
  {
   "cell_type": "markdown",
   "metadata": {},
   "source": [
    "1. Постановка задачи.\n",
    "2. Препроцессим данные.\n",
    "3. Токенизуем текст на слова.\n",
    "4. Возьмем предобученный Word2Vec, получим из него эмбеддинги слов.\n",
    "5. Паддинг в текстах: что это и зачем нужно.\n",
    "6. Соберем Dataset и DataLoader из текстов.\n",
    "7. Обучаем модель регрессии над текстом."
   ]
  },
  {
   "cell_type": "markdown",
   "metadata": {},
   "source": [
    "## Постановка задачи\n"
   ]
  },
  {
   "cell_type": "markdown",
   "metadata": {},
   "source": [
    "Требуется по заголовку объявления и его тексту предсказать, какую зарплату за это объявление предложат.\n",
    "\n",
    "Датасет возьмем из соревнования [\"Job Salary Prediction\"](https://www.kaggle.com/competitions/job-salary-prediction/data).\n",
    "\n",
    "В качестве метрики качества будем рассматривать MAE, подсчитанную на логарифме таргета.\n",
    "\n",
    "В качестве модели возьмем TextCNN, оптимизатор Adam."
   ]
  },
  {
   "cell_type": "markdown",
   "metadata": {},
   "source": [
    "## Смотрим на данные, препроцессим их"
   ]
  },
  {
   "cell_type": "code",
   "execution_count": 1,
   "metadata": {},
   "outputs": [
    {
     "name": "stdout",
     "output_type": "stream",
     "text": [
      "(244768, 12)\n"
     ]
    },
    {
     "data": {
      "text/html": [
       "<div>\n",
       "<style scoped>\n",
       "    .dataframe tbody tr th:only-of-type {\n",
       "        vertical-align: middle;\n",
       "    }\n",
       "\n",
       "    .dataframe tbody tr th {\n",
       "        vertical-align: top;\n",
       "    }\n",
       "\n",
       "    .dataframe thead th {\n",
       "        text-align: right;\n",
       "    }\n",
       "</style>\n",
       "<table border=\"1\" class=\"dataframe\">\n",
       "  <thead>\n",
       "    <tr style=\"text-align: right;\">\n",
       "      <th></th>\n",
       "      <th>Id</th>\n",
       "      <th>Title</th>\n",
       "      <th>FullDescription</th>\n",
       "      <th>LocationRaw</th>\n",
       "      <th>LocationNormalized</th>\n",
       "      <th>ContractType</th>\n",
       "      <th>ContractTime</th>\n",
       "      <th>Company</th>\n",
       "      <th>Category</th>\n",
       "      <th>SalaryRaw</th>\n",
       "      <th>SalaryNormalized</th>\n",
       "      <th>SourceName</th>\n",
       "    </tr>\n",
       "  </thead>\n",
       "  <tbody>\n",
       "    <tr>\n",
       "      <th>0</th>\n",
       "      <td>12612628</td>\n",
       "      <td>Engineering Systems Analyst</td>\n",
       "      <td>Engineering Systems Analyst Dorking Surrey Sal...</td>\n",
       "      <td>Dorking, Surrey, Surrey</td>\n",
       "      <td>Dorking</td>\n",
       "      <td>NaN</td>\n",
       "      <td>permanent</td>\n",
       "      <td>Gregory Martin International</td>\n",
       "      <td>Engineering Jobs</td>\n",
       "      <td>20000 - 30000/annum 20-30K</td>\n",
       "      <td>25000</td>\n",
       "      <td>cv-library.co.uk</td>\n",
       "    </tr>\n",
       "    <tr>\n",
       "      <th>1</th>\n",
       "      <td>12612830</td>\n",
       "      <td>Stress Engineer Glasgow</td>\n",
       "      <td>Stress Engineer Glasgow Salary **** to **** We...</td>\n",
       "      <td>Glasgow, Scotland, Scotland</td>\n",
       "      <td>Glasgow</td>\n",
       "      <td>NaN</td>\n",
       "      <td>permanent</td>\n",
       "      <td>Gregory Martin International</td>\n",
       "      <td>Engineering Jobs</td>\n",
       "      <td>25000 - 35000/annum 25-35K</td>\n",
       "      <td>30000</td>\n",
       "      <td>cv-library.co.uk</td>\n",
       "    </tr>\n",
       "  </tbody>\n",
       "</table>\n",
       "</div>"
      ],
      "text/plain": [
       "         Id                        Title  \\\n",
       "0  12612628  Engineering Systems Analyst   \n",
       "1  12612830      Stress Engineer Glasgow   \n",
       "\n",
       "                                     FullDescription  \\\n",
       "0  Engineering Systems Analyst Dorking Surrey Sal...   \n",
       "1  Stress Engineer Glasgow Salary **** to **** We...   \n",
       "\n",
       "                   LocationRaw LocationNormalized ContractType ContractTime  \\\n",
       "0      Dorking, Surrey, Surrey            Dorking          NaN    permanent   \n",
       "1  Glasgow, Scotland, Scotland            Glasgow          NaN    permanent   \n",
       "\n",
       "                        Company          Category                   SalaryRaw  \\\n",
       "0  Gregory Martin International  Engineering Jobs  20000 - 30000/annum 20-30K   \n",
       "1  Gregory Martin International  Engineering Jobs  25000 - 35000/annum 25-35K   \n",
       "\n",
       "   SalaryNormalized        SourceName  \n",
       "0             25000  cv-library.co.uk  \n",
       "1             30000  cv-library.co.uk  "
      ]
     },
     "execution_count": 1,
     "metadata": {},
     "output_type": "execute_result"
    }
   ],
   "source": [
    "import pandas as pd\n",
    "\n",
    "# Данные скачать отсюда https://www.kaggle.com/competitions/job-salary-prediction/data\n",
    "# Нас интересует Train_rev1.csv\n",
    "data = pd.read_csv(\"Train_rev1.csv\", index_col=None)\n",
    "print(data.shape)\n",
    "data.head(2)"
   ]
  },
  {
   "cell_type": "code",
   "execution_count": 2,
   "metadata": {},
   "outputs": [],
   "source": [
    "from sklearn.model_selection import train_test_split\n",
    "\n",
    "seed = 0\n",
    "data_train_val, data_test = train_test_split(data, test_size=0.2, random_state=seed)\n",
    "data, data_val = train_test_split(data_train_val, test_size=0.2, random_state=seed)"
   ]
  },
  {
   "cell_type": "code",
   "execution_count": 3,
   "metadata": {},
   "outputs": [
    {
     "data": {
      "image/png": "[encoded data removed]",
      "text/plain": [
       "<Figure size 800x400 with 2 Axes>"
      ]
     },
     "metadata": {},
     "output_type": "display_data"
    }
   ],
   "source": [
    "import matplotlib.pyplot as plt\n",
    "import numpy as np\n",
    "\n",
    "data[\"Log1pSalary\"] = np.log1p(data[\"SalaryNormalized\"]).astype(\"float32\")\n",
    "\n",
    "plt.figure(figsize=[8, 4])\n",
    "plt.subplot(1, 2, 1)\n",
    "plt.hist(data[\"SalaryNormalized\"], bins=20)\n",
    "\n",
    "plt.subplot(1, 2, 2)\n",
    "plt.hist(data[\"Log1pSalary\"], bins=20);"
   ]
  },
  {
   "cell_type": "code",
   "execution_count": 4,
   "metadata": {},
   "outputs": [
    {
     "data": {
      "text/html": [
       "<div>\n",
       "<style scoped>\n",
       "    .dataframe tbody tr th:only-of-type {\n",
       "        vertical-align: middle;\n",
       "    }\n",
       "\n",
       "    .dataframe tbody tr th {\n",
       "        vertical-align: top;\n",
       "    }\n",
       "\n",
       "    .dataframe thead th {\n",
       "        text-align: right;\n",
       "    }\n",
       "</style>\n",
       "<table border=\"1\" class=\"dataframe\">\n",
       "  <thead>\n",
       "    <tr style=\"text-align: right;\">\n",
       "      <th></th>\n",
       "      <th>Id</th>\n",
       "      <th>Title</th>\n",
       "      <th>FullDescription</th>\n",
       "      <th>LocationRaw</th>\n",
       "      <th>LocationNormalized</th>\n",
       "      <th>ContractType</th>\n",
       "      <th>ContractTime</th>\n",
       "      <th>Company</th>\n",
       "      <th>Category</th>\n",
       "      <th>SalaryRaw</th>\n",
       "      <th>SalaryNormalized</th>\n",
       "      <th>SourceName</th>\n",
       "      <th>Log1pSalary</th>\n",
       "    </tr>\n",
       "  </thead>\n",
       "  <tbody>\n",
       "    <tr>\n",
       "      <th>167173</th>\n",
       "      <td>71305312</td>\n",
       "      <td>Quantitative Research Associate  Excellent Pac...</td>\n",
       "      <td>Graduate Quantitative Research Associate – Lea...</td>\n",
       "      <td>Hertfordshire South East</td>\n",
       "      <td>UK</td>\n",
       "      <td>NaN</td>\n",
       "      <td>permanent</td>\n",
       "      <td>IT Retail People Ltd</td>\n",
       "      <td>IT Jobs</td>\n",
       "      <td>Up to 22,000 per annum Bonus, Training &amp; Lunch!</td>\n",
       "      <td>22000</td>\n",
       "      <td>cwjobs.co.uk</td>\n",
       "      <td>9.998843</td>\n",
       "    </tr>\n",
       "    <tr>\n",
       "      <th>12580</th>\n",
       "      <td>66557843</td>\n",
       "      <td>M&amp;A Manager</td>\n",
       "      <td>The role will include:  Managing tax implicati...</td>\n",
       "      <td>London</td>\n",
       "      <td>London</td>\n",
       "      <td>NaN</td>\n",
       "      <td>permanent</td>\n",
       "      <td>NaN</td>\n",
       "      <td>Accounting &amp; Finance Jobs</td>\n",
       "      <td>60000 - 70000</td>\n",
       "      <td>65000</td>\n",
       "      <td>michaelpage.co.uk</td>\n",
       "      <td>11.082158</td>\n",
       "    </tr>\n",
       "    <tr>\n",
       "      <th>135143</th>\n",
       "      <td>70260113</td>\n",
       "      <td>Children's Palliative Care Nurses</td>\n",
       "      <td>Children's Palliative Care Nurses  **** to ***...</td>\n",
       "      <td>Mid Kent, South East</td>\n",
       "      <td>UK</td>\n",
       "      <td>NaN</td>\n",
       "      <td>NaN</td>\n",
       "      <td>Sterling Cross</td>\n",
       "      <td>Healthcare &amp; Nursing Jobs</td>\n",
       "      <td>23,677.00 - 32,208.00 per annum</td>\n",
       "      <td>27942</td>\n",
       "      <td>rcnbulletinjobs.co.uk</td>\n",
       "      <td>10.237922</td>\n",
       "    </tr>\n",
       "  </tbody>\n",
       "</table>\n",
       "</div>"
      ],
      "text/plain": [
       "              Id                                              Title  \\\n",
       "167173  71305312  Quantitative Research Associate  Excellent Pac...   \n",
       "12580   66557843                                        M&A Manager   \n",
       "135143  70260113                  Children's Palliative Care Nurses   \n",
       "\n",
       "                                          FullDescription  \\\n",
       "167173  Graduate Quantitative Research Associate – Lea...   \n",
       "12580   The role will include:  Managing tax implicati...   \n",
       "135143  Children's Palliative Care Nurses  **** to ***...   \n",
       "\n",
       "                     LocationRaw LocationNormalized ContractType ContractTime  \\\n",
       "167173  Hertfordshire South East                 UK          NaN    permanent   \n",
       "12580                     London             London          NaN    permanent   \n",
       "135143      Mid Kent, South East                 UK          NaN          NaN   \n",
       "\n",
       "                     Company                   Category  \\\n",
       "167173  IT Retail People Ltd                    IT Jobs   \n",
       "12580                    NaN  Accounting & Finance Jobs   \n",
       "135143        Sterling Cross  Healthcare & Nursing Jobs   \n",
       "\n",
       "                                              SalaryRaw  SalaryNormalized  \\\n",
       "167173  Up to 22,000 per annum Bonus, Training & Lunch!             22000   \n",
       "12580                                     60000 - 70000             65000   \n",
       "135143                  23,677.00 - 32,208.00 per annum             27942   \n",
       "\n",
       "                   SourceName  Log1pSalary  \n",
       "167173           cwjobs.co.uk     9.998843  \n",
       "12580       michaelpage.co.uk    11.082158  \n",
       "135143  rcnbulletinjobs.co.uk    10.237922  "
      ]
     },
     "execution_count": 4,
     "metadata": {},
     "output_type": "execute_result"
    }
   ],
   "source": [
    "text_columns = [\"Title\", \"FullDescription\"]\n",
    "categorical_columns = [\"Category\", \"Company\", \"LocationNormalized\", \"ContractType\", \"ContractTime\"]\n",
    "TARGET_COLUMN = \"Log1pSalary\"\n",
    "\n",
    "\n",
    "data.sample(3)"
   ]
  },
  {
   "cell_type": "markdown",
   "metadata": {},
   "source": [
    "## Токенизация\n",
    "\n",
    "Напомним, что токен - это некая единица текста. Токеном может быть слово, буква, несколько букв.\n",
    "\n",
    "Воспользуемся пакетом `nltk` для разбиения текста на токены. В качестве токенов будем использовать отдельные слова."
   ]
  },
  {
   "cell_type": "code",
   "execution_count": 5,
   "metadata": {},
   "outputs": [
    {
     "name": "stderr",
     "output_type": "stream",
     "text": [
      "100%|██████████| 156651/156651 [00:06<00:00, 24298.55it/s]\n",
      "100%|██████████| 156651/156651 [00:00<00:00, 826721.55it/s]\n"
     ]
    }
   ],
   "source": [
    "import nltk\n",
    "import tqdm\n",
    "\n",
    "data.fillna({\"Title\": \"NaN\"}, inplace=True)\n",
    "tokenizer = nltk.tokenize.WordPunctTokenizer()\n",
    "for col in (\"FullDescription\", \"Title\"):\n",
    "    tmp = [\" \".join(tokenizer.tokenize(x)).lower() for x in tqdm.tqdm(data[col])]\n",
    "    data[col] = tmp"
   ]
  },
  {
   "cell_type": "code",
   "execution_count": 6,
   "metadata": {},
   "outputs": [
    {
     "data": {
      "text/plain": [
       "14645"
      ]
     },
     "execution_count": 6,
     "metadata": {},
     "output_type": "execute_result"
    }
   ],
   "source": [
    "data['FullDescription'].map(len).max()"
   ]
  },
  {
   "cell_type": "code",
   "execution_count": 7,
   "metadata": {},
   "outputs": [
    {
     "data": {
      "text/html": [
       "<style>#sk-container-id-1 {\n",
       "  /* Definition of color scheme common for light and dark mode */\n",
       "  --sklearn-color-text: black;\n",
       "  --sklearn-color-line: gray;\n",
       "  /* Definition of color scheme for unfitted estimators */\n",
       "  --sklearn-color-unfitted-level-0: #fff5e6;\n",
       "  --sklearn-color-unfitted-level-1: #f6e4d2;\n",
       "  --sklearn-color-unfitted-level-2: #ffe0b3;\n",
       "  --sklearn-color-unfitted-level-3: chocolate;\n",
       "  /* Definition of color scheme for fitted estimators */\n",
       "  --sklearn-color-fitted-level-0: #f0f8ff;\n",
       "  --sklearn-color-fitted-level-1: #d4ebff;\n",
       "  --sklearn-color-fitted-level-2: #b3dbfd;\n",
       "  --sklearn-color-fitted-level-3: cornflowerblue;\n",
       "\n",
       "  /* Specific color for light theme */\n",
       "  --sklearn-color-text-on-default-background: var(--sg-text-color, var(--theme-code-foreground, var(--jp-content-font-color1, black)));\n",
       "  --sklearn-color-background: var(--sg-background-color, var(--theme-background, var(--jp-layout-color0, white)));\n",
       "  --sklearn-color-border-box: var(--sg-text-color, var(--theme-code-foreground, var(--jp-content-font-color1, black)));\n",
       "  --sklearn-color-icon: #696969;\n",
       "\n",
       "  @media (prefers-color-scheme: dark) {\n",
       "    /* Redefinition of color scheme for dark theme */\n",
       "    --sklearn-color-text-on-default-background: var(--sg-text-color, var(--theme-code-foreground, var(--jp-content-font-color1, white)));\n",
       "    --sklearn-color-background: var(--sg-background-color, var(--theme-background, var(--jp-layout-color0, #111)));\n",
       "    --sklearn-color-border-box: var(--sg-text-color, var(--theme-code-foreground, var(--jp-content-font-color1, white)));\n",
       "    --sklearn-color-icon: #878787;\n",
       "  }\n",
       "}\n",
       "\n",
       "#sk-container-id-1 {\n",
       "  color: var(--sklearn-color-text);\n",
       "}\n",
       "\n",
       "#sk-container-id-1 pre {\n",
       "  padding: 0;\n",
       "}\n",
       "\n",
       "#sk-container-id-1 input.sk-hidden--visually {\n",
       "  border: 0;\n",
       "  clip: rect(1px 1px 1px 1px);\n",
       "  clip: rect(1px, 1px, 1px, 1px);\n",
       "  height: 1px;\n",
       "  margin: -1px;\n",
       "  overflow: hidden;\n",
       "  padding: 0;\n",
       "  position: absolute;\n",
       "  width: 1px;\n",
       "}\n",
       "\n",
       "#sk-container-id-1 div.sk-dashed-wrapped {\n",
       "  border: 1px dashed var(--sklearn-color-line);\n",
       "  margin: 0 0.4em 0.5em 0.4em;\n",
       "  box-sizing: border-box;\n",
       "  padding-bottom: 0.4em;\n",
       "  background-color: var(--sklearn-color-background);\n",
       "}\n",
       "\n",
       "#sk-container-id-1 div.sk-container {\n",
       "  /* jupyter's `normalize.less` sets `[hidden] { display: none; }`\n",
       "     but bootstrap.min.css set `[hidden] { display: none !important; }`\n",
       "     so we also need the `!important` here to be able to override the\n",
       "     default hidden behavior on the sphinx rendered scikit-learn.org.\n",
       "     See: https://github.com/scikit-learn/scikit-learn/issues/21755 */\n",
       "  display: inline-block !important;\n",
       "  position: relative;\n",
       "}\n",
       "\n",
       "#sk-container-id-1 div.sk-text-repr-fallback {\n",
       "  display: none;\n",
       "}\n",
       "\n",
       "div.sk-parallel-item,\n",
       "div.sk-serial,\n",
       "div.sk-item {\n",
       "  /* draw centered vertical line to link estimators */\n",
       "  background-image: linear-gradient(var(--sklearn-color-text-on-default-background), var(--sklearn-color-text-on-default-background));\n",
       "  background-size: 2px 100%;\n",
       "  background-repeat: no-repeat;\n",
       "  background-position: center center;\n",
       "}\n",
       "\n",
       "/* Parallel-specific style estimator block */\n",
       "\n",
       "#sk-container-id-1 div.sk-parallel-item::after {\n",
       "  content: \"\";\n",
       "  width: 100%;\n",
       "  border-bottom: 2px solid var(--sklearn-color-text-on-default-background);\n",
       "  flex-grow: 1;\n",
       "}\n",
       "\n",
       "#sk-container-id-1 div.sk-parallel {\n",
       "  display: flex;\n",
       "  align-items: stretch;\n",
       "  justify-content: center;\n",
       "  background-color: var(--sklearn-color-background);\n",
       "  position: relative;\n",
       "}\n",
       "\n",
       "#sk-container-id-1 div.sk-parallel-item {\n",
       "  display: flex;\n",
       "  flex-direction: column;\n",
       "}\n",
       "\n",
       "#sk-container-id-1 div.sk-parallel-item:first-child::after {\n",
       "  align-self: flex-end;\n",
       "  width: 50%;\n",
       "}\n",
       "\n",
       "#sk-container-id-1 div.sk-parallel-item:last-child::after {\n",
       "  align-self: flex-start;\n",
       "  width: 50%;\n",
       "}\n",
       "\n",
       "#sk-container-id-1 div.sk-parallel-item:only-child::after {\n",
       "  width: 0;\n",
       "}\n",
       "\n",
       "/* Serial-specific style estimator block */\n",
       "\n",
       "#sk-container-id-1 div.sk-serial {\n",
       "  display: flex;\n",
       "  flex-direction: column;\n",
       "  align-items: center;\n",
       "  background-color: var(--sklearn-color-background);\n",
       "  padding-right: 1em;\n",
       "  padding-left: 1em;\n",
       "}\n",
       "\n",
       "\n",
       "/* Toggleable style: style used for estimator/Pipeline/ColumnTransformer box that is\n",
       "clickable and can be expanded/collapsed.\n",
       "- Pipeline and ColumnTransformer use this feature and define the default style\n",
       "- Estimators will overwrite some part of the style using the `sk-estimator` class\n",
       "*/\n",
       "\n",
       "/* Pipeline and ColumnTransformer style (default) */\n",
       "\n",
       "#sk-container-id-1 div.sk-toggleable {\n",
       "  /* Default theme specific background. It is overwritten whether we have a\n",
       "  specific estimator or a Pipeline/ColumnTransformer */\n",
       "  background-color: var(--sklearn-color-background);\n",
       "}\n",
       "\n",
       "/* Toggleable label */\n",
       "#sk-container-id-1 label.sk-toggleable__label {\n",
       "  cursor: pointer;\n",
       "  display: block;\n",
       "  width: 100%;\n",
       "  margin-bottom: 0;\n",
       "  padding: 0.5em;\n",
       "  box-sizing: border-box;\n",
       "  text-align: center;\n",
       "}\n",
       "\n",
       "#sk-container-id-1 label.sk-toggleable__label-arrow:before {\n",
       "  /* Arrow on the left of the label */\n",
       "  content: \"▸\";\n",
       "  float: left;\n",
       "  margin-right: 0.25em;\n",
       "  color: var(--sklearn-color-icon);\n",
       "}\n",
       "\n",
       "#sk-container-id-1 label.sk-toggleable__label-arrow:hover:before {\n",
       "  color: var(--sklearn-color-text);\n",
       "}\n",
       "\n",
       "/* Toggleable content - dropdown */\n",
       "\n",
       "#sk-container-id-1 div.sk-toggleable__content {\n",
       "  max-height: 0;\n",
       "  max-width: 0;\n",
       "  overflow: hidden;\n",
       "  text-align: left;\n",
       "  /* unfitted */\n",
       "  background-color: var(--sklearn-color-unfitted-level-0);\n",
       "}\n",
       "\n",
       "#sk-container-id-1 div.sk-toggleable__content.fitted {\n",
       "  /* fitted */\n",
       "  background-color: var(--sklearn-color-fitted-level-0);\n",
       "}\n",
       "\n",
       "#sk-container-id-1 div.sk-toggleable__content pre {\n",
       "  margin: 0.2em;\n",
       "  border-radius: 0.25em;\n",
       "  color: var(--sklearn-color-text);\n",
       "  /* unfitted */\n",
       "  background-color: var(--sklearn-color-unfitted-level-0);\n",
       "}\n",
       "\n",
       "#sk-container-id-1 div.sk-toggleable__content.fitted pre {\n",
       "  /* unfitted */\n",
       "  background-color: var(--sklearn-color-fitted-level-0);\n",
       "}\n",
       "\n",
       "#sk-container-id-1 input.sk-toggleable__control:checked~div.sk-toggleable__content {\n",
       "  /* Expand drop-down */\n",
       "  max-height: 200px;\n",
       "  max-width: 100%;\n",
       "  overflow: auto;\n",
       "}\n",
       "\n",
       "#sk-container-id-1 input.sk-toggleable__control:checked~label.sk-toggleable__label-arrow:before {\n",
       "  content: \"▾\";\n",
       "}\n",
       "\n",
       "/* Pipeline/ColumnTransformer-specific style */\n",
       "\n",
       "#sk-container-id-1 div.sk-label input.sk-toggleable__control:checked~label.sk-toggleable__label {\n",
       "  color: var(--sklearn-color-text);\n",
       "  background-color: var(--sklearn-color-unfitted-level-2);\n",
       "}\n",
       "\n",
       "#sk-container-id-1 div.sk-label.fitted input.sk-toggleable__control:checked~label.sk-toggleable__label {\n",
       "  background-color: var(--sklearn-color-fitted-level-2);\n",
       "}\n",
       "\n",
       "/* Estimator-specific style */\n",
       "\n",
       "/* Colorize estimator box */\n",
       "#sk-container-id-1 div.sk-estimator input.sk-toggleable__control:checked~label.sk-toggleable__label {\n",
       "  /* unfitted */\n",
       "  background-color: var(--sklearn-color-unfitted-level-2);\n",
       "}\n",
       "\n",
       "#sk-container-id-1 div.sk-estimator.fitted input.sk-toggleable__control:checked~label.sk-toggleable__label {\n",
       "  /* fitted */\n",
       "  background-color: var(--sklearn-color-fitted-level-2);\n",
       "}\n",
       "\n",
       "#sk-container-id-1 div.sk-label label.sk-toggleable__label,\n",
       "#sk-container-id-1 div.sk-label label {\n",
       "  /* The background is the default theme color */\n",
       "  color: var(--sklearn-color-text-on-default-background);\n",
       "}\n",
       "\n",
       "/* On hover, darken the color of the background */\n",
       "#sk-container-id-1 div.sk-label:hover label.sk-toggleable__label {\n",
       "  color: var(--sklearn-color-text);\n",
       "  background-color: var(--sklearn-color-unfitted-level-2);\n",
       "}\n",
       "\n",
       "/* Label box, darken color on hover, fitted */\n",
       "#sk-container-id-1 div.sk-label.fitted:hover label.sk-toggleable__label.fitted {\n",
       "  color: var(--sklearn-color-text);\n",
       "  background-color: var(--sklearn-color-fitted-level-2);\n",
       "}\n",
       "\n",
       "/* Estimator label */\n",
       "\n",
       "#sk-container-id-1 div.sk-label label {\n",
       "  font-family: monospace;\n",
       "  font-weight: bold;\n",
       "  display: inline-block;\n",
       "  line-height: 1.2em;\n",
       "}\n",
       "\n",
       "#sk-container-id-1 div.sk-label-container {\n",
       "  text-align: center;\n",
       "}\n",
       "\n",
       "/* Estimator-specific */\n",
       "#sk-container-id-1 div.sk-estimator {\n",
       "  font-family: monospace;\n",
       "  border: 1px dotted var(--sklearn-color-border-box);\n",
       "  border-radius: 0.25em;\n",
       "  box-sizing: border-box;\n",
       "  margin-bottom: 0.5em;\n",
       "  /* unfitted */\n",
       "  background-color: var(--sklearn-color-unfitted-level-0);\n",
       "}\n",
       "\n",
       "#sk-container-id-1 div.sk-estimator.fitted {\n",
       "  /* fitted */\n",
       "  background-color: var(--sklearn-color-fitted-level-0);\n",
       "}\n",
       "\n",
       "/* on hover */\n",
       "#sk-container-id-1 div.sk-estimator:hover {\n",
       "  /* unfitted */\n",
       "  background-color: var(--sklearn-color-unfitted-level-2);\n",
       "}\n",
       "\n",
       "#sk-container-id-1 div.sk-estimator.fitted:hover {\n",
       "  /* fitted */\n",
       "  background-color: var(--sklearn-color-fitted-level-2);\n",
       "}\n",
       "\n",
       "/* Specification for estimator info (e.g. \"i\" and \"?\") */\n",
       "\n",
       "/* Common style for \"i\" and \"?\" */\n",
       "\n",
       ".sk-estimator-doc-link,\n",
       "a:link.sk-estimator-doc-link,\n",
       "a:visited.sk-estimator-doc-link {\n",
       "  float: right;\n",
       "  font-size: smaller;\n",
       "  line-height: 1em;\n",
       "  font-family: monospace;\n",
       "  background-color: var(--sklearn-color-background);\n",
       "  border-radius: 1em;\n",
       "  height: 1em;\n",
       "  width: 1em;\n",
       "  text-decoration: none !important;\n",
       "  margin-left: 1ex;\n",
       "  /* unfitted */\n",
       "  border: var(--sklearn-color-unfitted-level-1) 1pt solid;\n",
       "  color: var(--sklearn-color-unfitted-level-1);\n",
       "}\n",
       "\n",
       ".sk-estimator-doc-link.fitted,\n",
       "a:link.sk-estimator-doc-link.fitted,\n",
       "a:visited.sk-estimator-doc-link.fitted {\n",
       "  /* fitted */\n",
       "  border: var(--sklearn-color-fitted-level-1) 1pt solid;\n",
       "  color: var(--sklearn-color-fitted-level-1);\n",
       "}\n",
       "\n",
       "/* On hover */\n",
       "div.sk-estimator:hover .sk-estimator-doc-link:hover,\n",
       ".sk-estimator-doc-link:hover,\n",
       "div.sk-label-container:hover .sk-estimator-doc-link:hover,\n",
       ".sk-estimator-doc-link:hover {\n",
       "  /* unfitted */\n",
       "  background-color: var(--sklearn-color-unfitted-level-3);\n",
       "  color: var(--sklearn-color-background);\n",
       "  text-decoration: none;\n",
       "}\n",
       "\n",
       "div.sk-estimator.fitted:hover .sk-estimator-doc-link.fitted:hover,\n",
       ".sk-estimator-doc-link.fitted:hover,\n",
       "div.sk-label-container:hover .sk-estimator-doc-link.fitted:hover,\n",
       ".sk-estimator-doc-link.fitted:hover {\n",
       "  /* fitted */\n",
       "  background-color: var(--sklearn-color-fitted-level-3);\n",
       "  color: var(--sklearn-color-background);\n",
       "  text-decoration: none;\n",
       "}\n",
       "\n",
       "/* Span, style for the box shown on hovering the info icon */\n",
       ".sk-estimator-doc-link span {\n",
       "  display: none;\n",
       "  z-index: 9999;\n",
       "  position: relative;\n",
       "  font-weight: normal;\n",
       "  right: .2ex;\n",
       "  padding: .5ex;\n",
       "  margin: .5ex;\n",
       "  width: min-content;\n",
       "  min-width: 20ex;\n",
       "  max-width: 50ex;\n",
       "  color: var(--sklearn-color-text);\n",
       "  box-shadow: 2pt 2pt 4pt #999;\n",
       "  /* unfitted */\n",
       "  background: var(--sklearn-color-unfitted-level-0);\n",
       "  border: .5pt solid var(--sklearn-color-unfitted-level-3);\n",
       "}\n",
       "\n",
       ".sk-estimator-doc-link.fitted span {\n",
       "  /* fitted */\n",
       "  background: var(--sklearn-color-fitted-level-0);\n",
       "  border: var(--sklearn-color-fitted-level-3);\n",
       "}\n",
       "\n",
       ".sk-estimator-doc-link:hover span {\n",
       "  display: block;\n",
       "}\n",
       "\n",
       "/* \"?\"-specific style due to the `<a>` HTML tag */\n",
       "\n",
       "#sk-container-id-1 a.estimator_doc_link {\n",
       "  float: right;\n",
       "  font-size: 1rem;\n",
       "  line-height: 1em;\n",
       "  font-family: monospace;\n",
       "  background-color: var(--sklearn-color-background);\n",
       "  border-radius: 1rem;\n",
       "  height: 1rem;\n",
       "  width: 1rem;\n",
       "  text-decoration: none;\n",
       "  /* unfitted */\n",
       "  color: var(--sklearn-color-unfitted-level-1);\n",
       "  border: var(--sklearn-color-unfitted-level-1) 1pt solid;\n",
       "}\n",
       "\n",
       "#sk-container-id-1 a.estimator_doc_link.fitted {\n",
       "  /* fitted */\n",
       "  border: var(--sklearn-color-fitted-level-1) 1pt solid;\n",
       "  color: var(--sklearn-color-fitted-level-1);\n",
       "}\n",
       "\n",
       "/* On hover */\n",
       "#sk-container-id-1 a.estimator_doc_link:hover {\n",
       "  /* unfitted */\n",
       "  background-color: var(--sklearn-color-unfitted-level-3);\n",
       "  color: var(--sklearn-color-background);\n",
       "  text-decoration: none;\n",
       "}\n",
       "\n",
       "#sk-container-id-1 a.estimator_doc_link.fitted:hover {\n",
       "  /* fitted */\n",
       "  background-color: var(--sklearn-color-fitted-level-3);\n",
       "}\n",
       "</style><div id=\"sk-container-id-1\" class=\"sk-top-container\"><div class=\"sk-text-repr-fallback\"><pre>DictVectorizer(dtype=&lt;class &#x27;numpy.float32&#x27;&gt;, sparse=False)</pre><b>In a Jupyter environment, please rerun this cell to show the HTML representation or trust the notebook. <br />On GitHub, the HTML representation is unable to render, please try loading this page with nbviewer.org.</b></div><div class=\"sk-container\" hidden><div class=\"sk-item\"><div class=\"sk-estimator fitted sk-toggleable\"><input class=\"sk-toggleable__control sk-hidden--visually\" id=\"sk-estimator-id-1\" type=\"checkbox\" checked><label for=\"sk-estimator-id-1\" class=\"sk-toggleable__label fitted sk-toggleable__label-arrow fitted\">&nbsp;&nbsp;DictVectorizer<a class=\"sk-estimator-doc-link fitted\" rel=\"noreferrer\" target=\"_blank\" href=\"https://scikit-learn.org/1.4/modules/generated/sklearn.feature_extraction.DictVectorizer.html\">?<span>Documentation for DictVectorizer</span></a><span class=\"sk-estimator-doc-link fitted\">i<span>Fitted</span></span></label><div class=\"sk-toggleable__content fitted\"><pre>DictVectorizer(dtype=&lt;class &#x27;numpy.float32&#x27;&gt;, sparse=False)</pre></div> </div></div></div></div>"
      ],
      "text/plain": [
       "DictVectorizer(dtype=<class 'numpy.float32'>, sparse=False)"
      ]
     },
     "execution_count": 7,
     "metadata": {},
     "output_type": "execute_result"
    }
   ],
   "source": [
    "from collections import Counter\n",
    "from sklearn.feature_extraction import DictVectorizer\n",
    "\n",
    "# Запроцессим категориальные фичи:\n",
    "# - заполним пропуски\n",
    "# - возьмем топ 2к компаний;\n",
    "# - сделаем OHE над колонками;\n",
    "data[categorical_columns] = data[categorical_columns].fillna(\"NaN\")\n",
    "top_companies, top_counts = zip(*Counter(data[\"Company\"]).most_common(1000))\n",
    "recognized_companies = set(top_companies)\n",
    "data[\"Company\"] = data[\"Company\"].apply(\n",
    "    lambda comp: comp if comp in recognized_companies else \"Other\"\n",
    ")\n",
    "categorical_vectorizer = DictVectorizer(dtype=np.float32, sparse=False)\n",
    "categorical_vectorizer.fit(data[categorical_columns].apply(dict, axis=1))"
   ]
  },
  {
   "cell_type": "markdown",
   "metadata": {},
   "source": [
    "## Эмбеддинги\n",
    "\n",
    "Эмбеддинг - это векторное представление токена.\n",
    "В этом демо для получения из токена его эмбеддинг будем использовать `word2vec`, предобученный на `Google News`."
   ]
  },
  {
   "cell_type": "code",
   "execution_count": 8,
   "metadata": {},
   "outputs": [
    {
     "name": "stdout",
     "output_type": "stream",
     "text": [
      "<class 'gensim.models.keyedvectors.KeyedVectors'>\n",
      "(300,)\n",
      "True\n"
     ]
    }
   ],
   "source": [
    "import gensim.downloader as api\n",
    "\n",
    "wv = api.load(\"word2vec-google-news-300\")\n",
    "print(type(wv))\n",
    "print(wv.get_vector(\"map\").shape)\n",
    "print(wv.has_index_for('map'))"
   ]
  },
  {
   "cell_type": "code",
   "execution_count": 9,
   "metadata": {},
   "outputs": [
    {
     "name": "stderr",
     "output_type": "stream",
     "text": [
      "100%|██████████| 100/100 [00:00<00:00, 3358.80it/s]\n",
      "100%|██████████| 100/100 [00:00<00:00, 47153.50it/s]\n"
     ]
    }
   ],
   "source": [
    "take_first_n = 1_000\n",
    "\n",
    "# Весь датасет не влезет в RAM, будем бить на батчи\n",
    "# Возьмите subset = data - и увидите, что не помещается\n",
    "subset = data.iloc[:100].copy()\n",
    "for col in (\"FullDescription\", \"Title\"):\n",
    "    new_data = [\n",
    "        np.stack(\n",
    "            [\n",
    "                wv.get_vector(x)\n",
    "                for x in tokens.split()[:take_first_n]\n",
    "                if wv.has_index_for(x)\n",
    "            ]\n",
    "        )\n",
    "        for tokens in tqdm.tqdm(subset[col])\n",
    "    ]\n",
    "    subset[f\"emb_{col}\"] = new_data"
   ]
  },
  {
   "cell_type": "code",
   "execution_count": 10,
   "metadata": {},
   "outputs": [
    {
     "data": {
      "text/plain": [
       "104939    (108, 300)\n",
       "45543     (112, 300)\n",
       "164172    (232, 300)\n",
       "20726     (442, 300)\n",
       "194925     (93, 300)\n",
       "             ...    \n",
       "174632    (289, 300)\n",
       "175751    (155, 300)\n",
       "183638    (271, 300)\n",
       "208091    (171, 300)\n",
       "198073    (300, 300)\n",
       "Name: emb_FullDescription, Length: 100, dtype: object"
      ]
     },
     "execution_count": 10,
     "metadata": {},
     "output_type": "execute_result"
    }
   ],
   "source": [
    "# тексты разной длины\n",
    "subset[\"emb_FullDescription\"].map(lambda x: x.shape)"
   ]
  },
  {
   "cell_type": "markdown",
   "metadata": {},
   "source": [
    "## Паддинг\n",
    "Помним, что когда объединяем в батч, все размерности должны быть одинаковы.\n",
    "\n",
    "Чтобы суметь собрать тексты разной длины в один батч, приведем все предложения к одной длине.\n",
    "Для этого добавим некоторый специальный символ - например, `<PAD>`.\n",
    "\n",
    "В `word2vec-google-news-300` нет явного символа паддинга (обычно это `<PAD>`),\n",
    "но мы можем взять любой другой символ, который точно не встречается в текстах."
   ]
  },
  {
   "cell_type": "code",
   "execution_count": 11,
   "metadata": {},
   "outputs": [
    {
     "data": {
      "text/plain": [
       "['</s>', 'in', 'for', 'that', 'is', 'on', '##', 'The', 'with', 'said']"
      ]
     },
     "execution_count": 11,
     "metadata": {},
     "output_type": "execute_result"
    }
   ],
   "source": [
    "# Возьмем </s> - только проверим, что его нет в наших текстах\n",
    "wv.index_to_key[:10]"
   ]
  },
  {
   "cell_type": "code",
   "execution_count": 12,
   "metadata": {},
   "outputs": [],
   "source": [
    "# Оба assert проходит - значит, </s> можно использовать как токен для паддинга\n",
    "assert 0 == data[\"Title\"].map(lambda tokens: \"</s>\" in tokens).sum()\n",
    "assert 0 == data[\"FullDescription\"].map(lambda tokens: \"</s>\" in tokens).sum()"
   ]
  },
  {
   "cell_type": "code",
   "execution_count": 13,
   "metadata": {},
   "outputs": [
    {
     "data": {
      "text/plain": [
       "104939    nursery manager </s> </s> </s> </s> </s> </s> ...\n",
       "45543     retail advisor – gateshead cameron walk ( part...\n",
       "164172    finance manager london </s> </s> </s> </s> </s...\n",
       "20726     weekend showroom host , high wycombe , motor t...\n",
       "194925    registered nurses ( rgn ' s rmn ' s & rnld ' s...\n",
       "222927    field sales executive portable appliance / ele...\n",
       "206627    real estate partner </s> </s> </s> </s> </s> <...\n",
       "127166    clinical advisor patient monitoring </s> </s> ...\n",
       "123545    retail sales consultant </s> </s> </s> </s> </...\n",
       "42842     senior systems analyst </s> </s> </s> </s> </s...\n",
       "60993     digital graphic design manager asda </s> </s> ...\n",
       "32378     materials planner / stock controller / buyer <...\n",
       "122579    cnc machine operator </s> </s> </s> </s> </s> ...\n",
       "150341    hr business partner cipd charitable organisati...\n",
       "80759     evening cleaner hilton birmingham metropole </...\n",
       "Name: Title, dtype: object"
      ]
     },
     "execution_count": 13,
     "metadata": {},
     "output_type": "execute_result"
    }
   ],
   "source": [
    "# Эту функцию дальше не будем использовать, но она демонстрирует идею паддинга\n",
    "def pad_sequence(series: pd.Series, pad_length: int, pad_token: str = \"</s>\"):\n",
    "    return series.map(\n",
    "        lambda tokens: \" \".join(\n",
    "            tokens.split() + [pad_token] * max(0, pad_length - len(tokens.split()))\n",
    "        )\n",
    "    )\n",
    "\n",
    "\n",
    "pad_sequence(subset[\"Title\"], 15).head(15)"
   ]
  },
  {
   "cell_type": "markdown",
   "metadata": {},
   "source": [
    "То, что видим выше - это типичный результат после применения паддинга."
   ]
  },
  {
   "cell_type": "code",
   "execution_count": 14,
   "metadata": {},
   "outputs": [],
   "source": [
    "from collections.abc import Collection\n",
    "from gensim.models import KeyedVectors\n",
    "\n",
    "\n",
    "def pad_or_trim_to_length(\n",
    "    pad_length: int, vectors: list[np.ndarray], pad_vector: np.ndarray\n",
    "):\n",
    "    assert pad_vector.ndim == 1\n",
    "    # допаддим слева, а если превысили - обрежем с конца\n",
    "    vectors = vectors[:pad_length] + [pad_vector] * max(0, pad_length - len(vectors))\n",
    "    return np.stack(vectors)\n",
    "\n",
    "\n",
    "def seq_to_emb(\n",
    "    sentences: Collection[str], wv: KeyedVectors, pad_length: int, pad_token: str = \"</s>\"\n",
    "):\n",
    "    rv = []\n",
    "    for sentence in sentences:\n",
    "        sentence_embeddings = []\n",
    "        for one_token in sentence.split():\n",
    "            if wv.has_index_for(one_token):\n",
    "                sentence_embeddings.append(wv.get_vector(one_token))\n",
    "        sentence_embeddings = pad_or_trim_to_length(\n",
    "            pad_length, sentence_embeddings, wv.get_vector(pad_token)\n",
    "        )\n",
    "        rv.append(np.stack(sentence_embeddings))\n",
    "    return np.stack(rv)"
   ]
  },
  {
   "cell_type": "code",
   "execution_count": 15,
   "metadata": {},
   "outputs": [
    {
     "data": {
      "text/plain": [
       "(100, 50, 300)"
      ]
     },
     "execution_count": 15,
     "metadata": {},
     "output_type": "execute_result"
    }
   ],
   "source": [
    "seq_to_emb(subset[\"Title\"], wv, 50).shape"
   ]
  },
  {
   "cell_type": "code",
   "execution_count": 16,
   "metadata": {},
   "outputs": [
    {
     "name": "stdout",
     "output_type": "stream",
     "text": [
      "Максимальное количество токенов в колонке 'Title': 40\n",
      "Максимальное количество токенов в колонке 'FullDescription': 2317\n"
     ]
    }
   ],
   "source": [
    "# Какую длину в паддинге выбрать? Подсчитаем по датасету\n",
    "print(\n",
    "    \"Максимальное количество токенов в колонке 'Title':\",\n",
    "    data[\"Title\"].map(lambda x: x.split()).map(len).max(),\n",
    ")\n",
    "print(\n",
    "    \"Максимальное количество токенов в колонке 'FullDescription':\",\n",
    "    data[\"FullDescription\"].map(lambda x: x.split()).map(len).max(),\n",
    ")\n",
    "# Возьмем 40 и 2317 - почему бы и нет?"
   ]
  },
  {
   "cell_type": "markdown",
   "metadata": {},
   "source": [
    "## Собираем Dataset и DataLoader"
   ]
  },
  {
   "cell_type": "code",
   "execution_count": 17,
   "metadata": {},
   "outputs": [],
   "source": [
    "# Соберем все в датасет, который запроцессит данные, токенизует и превратит в эмбеддинги\n",
    "from torch.utils.data import Dataset\n",
    "import torch\n",
    "\n",
    "\n",
    "class CvTextDataset(Dataset):\n",
    "    def __init__(\n",
    "        self,\n",
    "        data: pd.DataFrame,\n",
    "        pad_title_len: int,\n",
    "        pad_desc_len: int,\n",
    "        wv: KeyedVectors,\n",
    "        categorical_vectorizer: DictVectorizer,\n",
    "    ):\n",
    "        # Далее будут те коды препроцессинга, что писали ранее\n",
    "        self.target_column = \"Log1pSalary\"\n",
    "        data[self.target_column] = np.log1p(data[\"SalaryNormalized\"]).astype(\"float32\")\n",
    "\n",
    "        # Кат. фичи: заполнить пропуски, взять топ популярных компаний и OHE\n",
    "        data[categorical_columns] = data[categorical_columns].fillna(\"NaN\")\n",
    "        top_companies, _ = zip(*Counter(data[\"Company\"]).most_common(2000))\n",
    "        recognized_companies = set(top_companies)\n",
    "        data[\"Company\"] = data[\"Company\"].apply(\n",
    "            lambda comp: comp if comp in recognized_companies else \"Other\"\n",
    "        )\n",
    "        self.categorical_vectorizer = categorical_vectorizer\n",
    "\n",
    "        # Текстовые фичи: токенизация\n",
    "        self.text_columns = [\"Title\", \"FullDescription\"]\n",
    "        data.fillna({k: \"NaN\" for k in self.text_columns}, inplace=True)\n",
    "        tokenizer = nltk.tokenize.WordPunctTokenizer()\n",
    "        for col in self.text_columns:\n",
    "            tmp = [\n",
    "                \" \".join(tokenizer.tokenize(x)).lower() for x in tqdm.tqdm(data[col])\n",
    "            ]\n",
    "            data[col] = tmp\n",
    "        self.pad_len_for_column = {\n",
    "            \"Title\": pad_title_len,\n",
    "            \"FullDescription\": pad_desc_len,\n",
    "        }\n",
    "\n",
    "        self.wv = wv\n",
    "        self.data = data\n",
    "\n",
    "    def __len__(self):\n",
    "        return self.data.shape[0]\n",
    "\n",
    "    def __getitem__(self, index: int) -> tuple[torch.Tensor, torch.Tensor, float]:\n",
    "        one_row = self.data.iloc[index]\n",
    "        target = one_row[self.target_column]\n",
    "        rv = {}\n",
    "        # Сначала две текстовые колонки, потом категориальные\n",
    "        for one_feature in self.text_columns:\n",
    "            rv[one_feature] = torch.from_numpy(\n",
    "                seq_to_emb(\n",
    "                    [one_row[one_feature]],\n",
    "                    wv=self.wv,\n",
    "                    pad_length=self.pad_len_for_column[one_feature],\n",
    "                )\n",
    "            ).squeeze(0)\n",
    "        for one_feature in categorical_columns:\n",
    "            rv[one_feature] = torch.from_numpy(\n",
    "                self.categorical_vectorizer.transform(\n",
    "                    {one_feature: one_row[one_feature]}\n",
    "                )\n",
    "            ).squeeze(0)\n",
    "        rv[self.target_column] = target\n",
    "        return rv"
   ]
  },
  {
   "cell_type": "code",
   "execution_count": 18,
   "metadata": {},
   "outputs": [
    {
     "name": "stderr",
     "output_type": "stream",
     "text": [
      "100%|██████████| 156651/156651 [00:00<00:00, 790308.47it/s]\n",
      "100%|██████████| 156651/156651 [00:06<00:00, 23890.99it/s]\n",
      "100%|██████████| 39163/39163 [00:00<00:00, 837278.73it/s]\n",
      "100%|██████████| 39163/39163 [00:01<00:00, 24040.50it/s]\n",
      "100%|██████████| 48954/48954 [00:00<00:00, 799479.64it/s]\n",
      "100%|██████████| 48954/48954 [00:02<00:00, 23859.05it/s]"
     ]
    },
    {
     "name": "stdout",
     "output_type": "stream",
     "text": [
      "48954\n",
      "<class 'torch.Tensor'> <class 'torch.Tensor'>\n",
      "torch.Size([40, 300]) torch.Size([2317, 300]) torch.Size([3403]) ()\n"
     ]
    },
    {
     "name": "stderr",
     "output_type": "stream",
     "text": [
      "\n"
     ]
    }
   ],
   "source": [
    "train_dataset = CvTextDataset(\n",
    "    data,\n",
    "    pad_title_len=40,\n",
    "    pad_desc_len=2317,\n",
    "    wv=wv,\n",
    "    categorical_vectorizer=categorical_vectorizer,\n",
    ")\n",
    "val_dataset = CvTextDataset(\n",
    "    data_val,\n",
    "    pad_title_len=40,\n",
    "    pad_desc_len=2317,\n",
    "    wv=wv,\n",
    "    categorical_vectorizer=categorical_vectorizer,\n",
    ")\n",
    "test_dataset = CvTextDataset(\n",
    "    data_test,\n",
    "    pad_title_len=40,\n",
    "    pad_desc_len=2317,\n",
    "    wv=wv,\n",
    "    categorical_vectorizer=categorical_vectorizer,\n",
    ")\n",
    "# print(len(train_dataset))\n",
    "print(len(test_dataset))\n",
    "x = test_dataset[0]\n",
    "print(type(x[\"Title\"]), type(x[\"FullDescription\"]))\n",
    "print(\n",
    "    x[\"Title\"].shape,\n",
    "    x[\"FullDescription\"].shape,\n",
    "    x[\"Company\"].shape,\n",
    "    x[\"Log1pSalary\"].shape,\n",
    ")"
   ]
  },
  {
   "cell_type": "code",
   "execution_count": 19,
   "metadata": {},
   "outputs": [
    {
     "data": {
      "text/plain": [
       "dict_keys(['Title', 'FullDescription', 'Category', 'Company', 'LocationNormalized', 'ContractType', 'ContractTime', 'Log1pSalary'])"
      ]
     },
     "execution_count": 19,
     "metadata": {},
     "output_type": "execute_result"
    }
   ],
   "source": [
    "x.keys()"
   ]
  },
  {
   "cell_type": "code",
   "execution_count": 20,
   "metadata": {},
   "outputs": [],
   "source": [
    "import os\n",
    "import random\n",
    "\n",
    "\n",
    "def enable_determinism():\n",
    "    os.environ[\"CUBLAS_WORKSPACE_CONFIG\"] = \":4096:8\"\n",
    "    torch.use_deterministic_algorithms(True)\n",
    "\n",
    "\n",
    "def fix_seeds(seed: int):\n",
    "    np.random.seed(seed)\n",
    "    random.seed(seed)\n",
    "    torch.manual_seed(seed)\n",
    "    torch.cuda.manual_seed(seed)\n",
    "    torch.mps.manual_seed(seed)\n",
    "\n",
    "def seed_worker(worker_id):\n",
    "    worker_seed = torch.initial_seed() % 2**32\n",
    "    np.random.seed(worker_seed)\n",
    "    random.seed(worker_seed)\n",
    "\n",
    "g = torch.Generator()\n",
    "g.manual_seed(0)\n",
    "\n",
    "\n",
    "enable_determinism()\n",
    "fix_seeds(0)"
   ]
  },
  {
   "cell_type": "code",
   "execution_count": 21,
   "metadata": {},
   "outputs": [
    {
     "data": {
      "text/plain": [
       "[torch.Size([64, 40, 300]),\n",
       " torch.Size([64, 2317, 300]),\n",
       " torch.Size([64, 3403]),\n",
       " torch.Size([64, 3403]),\n",
       " torch.Size([64, 3403]),\n",
       " torch.Size([64, 3403]),\n",
       " torch.Size([64, 3403]),\n",
       " torch.Size([64])]"
      ]
     },
     "execution_count": 21,
     "metadata": {},
     "output_type": "execute_result"
    }
   ],
   "source": [
    "from torch.utils.data import DataLoader\n",
    "\n",
    "batch_size = 64\n",
    "train_loader = DataLoader(\n",
    "    train_dataset,\n",
    "    batch_size=batch_size,\n",
    "    num_workers=24,\n",
    "    pin_memory=False,\n",
    "    shuffle=True,\n",
    "    worker_init_fn=seed_worker,\n",
    "    generator=g,\n",
    ")\n",
    "val_loader = DataLoader(val_dataset, batch_size=batch_size, num_workers=24)\n",
    "test_loader = DataLoader(test_dataset, batch_size=batch_size, num_workers=24)\n",
    "[x.shape for x in next(iter(test_loader)).values()]"
   ]
  },
  {
   "cell_type": "markdown",
   "metadata": {},
   "source": [
    "## TextCNN\n",
    "\n",
    "Одна из самых ранних моделей в мире NLP. [Статья](https://arxiv.org/abs/1408.5882).\n",
    "Архитектура следующая:\n",
    "\n",
    "<center><img src=\"./textcnn.png\"></center>\n",
    "\n",
    "6 ядер, по 2 ядра размерами 2, 3 и 4 соответственно. Затем MaxPool.\n",
    "Все выходы сшиваются в один вектор - и передаются в FC слой.\n",
    "\n",
    "Мы сделаем то же самое, но добавим еще один ингредиент - категориальные фичи.\n",
    "Их прогоним через FC, соединим с вектором из других выходов - и точно так же подадим в финальный FC слой.\n",
    "\n",
    "<center><img src=\"./final-arch.png\"></center>"
   ]
  },
  {
   "cell_type": "code",
   "execution_count": 22,
   "metadata": {},
   "outputs": [],
   "source": [
    "import torch.nn as nn\n",
    "\n",
    "filter_sizes = [2, 3, 4]\n",
    "num_filters = 2\n",
    "\n",
    "\n",
    "class TextCnn(nn.Module):\n",
    "    def __init__(self):\n",
    "        super().__init__()\n",
    "        emb_size = 300\n",
    "        self.text_filters = nn.ModuleList(\n",
    "            [\n",
    "                nn.Sequential(\n",
    "                    nn.Conv1d(emb_size, num_filters, kernel_size=filter_sizes[i]),\n",
    "                    nn.ReLU(),\n",
    "                )\n",
    "                for i in range(len(filter_sizes))\n",
    "            ]\n",
    "        )\n",
    "        self.cat_network = nn.ModuleList(\n",
    "            [\n",
    "                nn.Sequential(\n",
    "                    nn.Linear(len(categorical_vectorizer.vocabulary_), num_filters),\n",
    "                    nn.ReLU(),\n",
    "                )\n",
    "                for _ in range(len(categorical_columns))\n",
    "            ]\n",
    "        )\n",
    "        self.fc = nn.Linear(\n",
    "            num_filters\n",
    "            * (len(filter_sizes) * len(text_columns) + len(categorical_columns)),\n",
    "            1,\n",
    "        )\n",
    "\n",
    "    def forward(self, data: dict[str, torch.Tensor]):\n",
    "        to_fc = []\n",
    "        for key in text_columns:\n",
    "            x = data[key]\n",
    "            rv = []\n",
    "            for f in self.text_filters:\n",
    "                # Свертка - выдаст [(bs, 2, n - 1), (bs, 2, n - 2), (bs, 2, n - 3)]\n",
    "                result = f(x.permute((0, 2, 1)))\n",
    "                # MaxPooling вдоль предложения - даст [(bs, 2), (bs, 2), (bs, 2)]\n",
    "                result = torch.max(result, dim=2)[0]\n",
    "                rv.append(result)\n",
    "            x = torch.concat(rv, dim=1)\n",
    "            to_fc.append(x)\n",
    "\n",
    "        for i, key in enumerate(categorical_columns):\n",
    "            x = data[key]\n",
    "            x = self.cat_network[i](x)\n",
    "            to_fc.append(x)\n",
    "\n",
    "        x = torch.hstack(to_fc)\n",
    "        x = self.fc(x).squeeze(1)\n",
    "        return x"
   ]
  },
  {
   "cell_type": "code",
   "execution_count": 23,
   "metadata": {},
   "outputs": [
    {
     "data": {
      "text/plain": [
       "torch.Size([64])"
      ]
     },
     "execution_count": 23,
     "metadata": {},
     "output_type": "execute_result"
    }
   ],
   "source": [
    "model = TextCnn()\n",
    "model(next(iter(test_loader))).shape"
   ]
  },
  {
   "cell_type": "code",
   "execution_count": 24,
   "metadata": {},
   "outputs": [],
   "source": [
    "device = torch.device(\"cuda\" if torch.cuda.is_available() else \"cpu\")"
   ]
  },
  {
   "cell_type": "code",
   "execution_count": 25,
   "metadata": {},
   "outputs": [
    {
     "name": "stderr",
     "output_type": "stream",
     "text": [
      "Failed to detect the name of this notebook, you can set it manually with the WANDB_NOTEBOOK_NAME environment variable to enable code saving.\n",
      "\u001b[34m\u001b[1mwandb\u001b[0m: Currently logged in as: \u001b[33malekseik1\u001b[0m. Use \u001b[1m`wandb login --relogin`\u001b[0m to force relogin\n"
     ]
    },
    {
     "data": {
      "text/html": [
       "wandb version 0.17.0 is available!  To upgrade, please run:\n",
       " $ pip install wandb --upgrade"
      ],
      "text/plain": [
       "<IPython.core.display.HTML object>"
      ]
     },
     "metadata": {},
     "output_type": "display_data"
    },
    {
     "data": {
      "text/html": [
       "Tracking run with wandb version 0.16.4"
      ],
      "text/plain": [
       "<IPython.core.display.HTML object>"
      ]
     },
     "metadata": {},
     "output_type": "display_data"
    },
    {
     "data": {
      "text/html": [
       "Run data is saved locally in <code>/home/aleksei/git/start-dl/start_dl/lesson_6/wandb/run-20240513_165749-mzsf8qoy</code>"
      ],
      "text/plain": [
       "<IPython.core.display.HTML object>"
      ]
     },
     "metadata": {},
     "output_type": "display_data"
    },
    {
     "data": {
      "text/html": [
       "Syncing run <strong><a href='https://wandb.ai/alekseik1/start-dl--lesson-6/runs/mzsf8qoy' target=\"_blank\">radiant-breeze-39</a></strong> to <a href='https://wandb.ai/alekseik1/start-dl--lesson-6' target=\"_blank\">Weights & Biases</a> (<a href='https://wandb.me/run' target=\"_blank\">docs</a>)<br/>"
      ],
      "text/plain": [
       "<IPython.core.display.HTML object>"
      ]
     },
     "metadata": {},
     "output_type": "display_data"
    },
    {
     "data": {
      "text/html": [
       " View project at <a href='https://wandb.ai/alekseik1/start-dl--lesson-6' target=\"_blank\">https://wandb.ai/alekseik1/start-dl--lesson-6</a>"
      ],
      "text/plain": [
       "<IPython.core.display.HTML object>"
      ]
     },
     "metadata": {},
     "output_type": "display_data"
    },
    {
     "data": {
      "text/html": [
       " View run at <a href='https://wandb.ai/alekseik1/start-dl--lesson-6/runs/mzsf8qoy' target=\"_blank\">https://wandb.ai/alekseik1/start-dl--lesson-6/runs/mzsf8qoy</a>"
      ],
      "text/plain": [
       "<IPython.core.display.HTML object>"
      ]
     },
     "metadata": {},
     "output_type": "display_data"
    },
    {
     "name": "stderr",
     "output_type": "stream",
     "text": [
      "/home/aleksei/.cache/pypoetry/virtualenvs/start-dl-fEQaQ9Q8-py3.10/lib/python3.10/site-packages/tqdm/auto.py:21: TqdmWarning: IProgress not found. Please update jupyter and ipywidgets. See https://ipywidgets.readthedocs.io/en/stable/user_install.html\n",
      "  from .autonotebook import tqdm as notebook_tqdm\n",
      "100%|██████████| 2448/2448 [02:27<00:00, 16.55it/s]\n",
      "100%|██████████| 2448/2448 [02:15<00:00, 18.02it/s]\n",
      "100%|██████████| 2448/2448 [02:15<00:00, 18.12it/s]\n",
      "100%|██████████| 2448/2448 [02:16<00:00, 17.95it/s]\n",
      "100%|██████████| 2448/2448 [02:16<00:00, 17.96it/s]\n",
      "100%|██████████| 2448/2448 [02:16<00:00, 17.97it/s]\n"
     ]
    },
    {
     "data": {
      "text/plain": [
       "Adam (\n",
       "Parameter Group 0\n",
       "    amsgrad: False\n",
       "    betas: (0.9, 0.999)\n",
       "    capturable: False\n",
       "    differentiable: False\n",
       "    eps: 1e-08\n",
       "    foreach: None\n",
       "    fused: None\n",
       "    lr: 0.0001\n",
       "    maximize: False\n",
       "    weight_decay: 0\n",
       ")"
      ]
     },
     "execution_count": 25,
     "metadata": {},
     "output_type": "execute_result"
    }
   ],
   "source": [
    "import torch.nn.functional as F\n",
    "import wandb\n",
    "from torch.optim import Adam\n",
    "\n",
    "loss_fn = F.l1_loss\n",
    "\n",
    "\n",
    "@torch.no_grad\n",
    "def loss_on_dataset(model: nn.Module, loader: DataLoader, device: torch.device):\n",
    "    model.to(device).eval()\n",
    "    loss = 0\n",
    "    for x in loader:\n",
    "        x = {k: v.to(device) for k, v in x.items()}\n",
    "        pred = model(x)\n",
    "        loss = loss + loss_fn(pred, x[TARGET_COLUMN])\n",
    "    model.train()\n",
    "    return (loss / len(loader)).item()\n",
    "\n",
    "\n",
    "def train_loop(\n",
    "    model: nn.Module,\n",
    "    train_loader: DataLoader,\n",
    "    val_loader: DataLoader,\n",
    "    device: torch.device,\n",
    "):\n",
    "    optimizer = Adam(model.parameters(), lr=1e-4)\n",
    "    n_epochs = 6\n",
    "    model.to(device).train()\n",
    "    wandb.watch(model, criterion=loss_fn, log=\"parameters\", log_freq=100)\n",
    "    for _ in range(n_epochs):\n",
    "        for x in tqdm.tqdm(train_loader):\n",
    "            x = {k: v.to(device) for k, v in x.items()}\n",
    "            pred = model(x)\n",
    "            loss = loss_fn(pred, x[TARGET_COLUMN])\n",
    "            loss.backward()\n",
    "            optimizer.step()\n",
    "            optimizer.zero_grad()\n",
    "            wandb.log({\"loss\": loss.item()})\n",
    "        wandb.log({\"val_loss\": loss_on_dataset(model, val_loader, device)})\n",
    "    return optimizer\n",
    "\n",
    "\n",
    "wandb.init(project=\"start-dl--lesson-6\")\n",
    "train_loop(model, train_loader, val_loader, device)"
   ]
  },
  {
   "cell_type": "code",
   "execution_count": 26,
   "metadata": {},
   "outputs": [
    {
     "name": "stderr",
     "output_type": "stream",
     "text": [
      "100%|██████████| 765/765 [00:38<00:00, 19.78it/s]\n"
     ]
    }
   ],
   "source": [
    "# Подсчитаем, насколько модель ошибается на test датасете\n",
    "model.to(device).eval()\n",
    "losses = []\n",
    "for x in tqdm.tqdm(test_loader):\n",
    "    x = {k: v.to(device) for k, v in x.items()}\n",
    "    with torch.no_grad():\n",
    "        pred = model(x)\n",
    "    for i in range(pred.shape[0]):\n",
    "        losses.append((pred - x[TARGET_COLUMN])[i].item())"
   ]
  },
  {
   "cell_type": "code",
   "execution_count": 27,
   "metadata": {},
   "outputs": [
    {
     "data": {
      "image/png": "[encoded data removed]",
      "text/plain": [
       "<Figure size 640x480 with 1 Axes>"
      ]
     },
     "metadata": {},
     "output_type": "display_data"
    }
   ],
   "source": [
    "plt.hist(losses, bins=200)\n",
    "plt.xlim((-4, 5));"
   ]
  },
  {
   "cell_type": "code",
   "execution_count": 28,
   "metadata": {},
   "outputs": [
    {
     "data": {
      "text/plain": [
       "-0.04822667488481219"
      ]
     },
     "execution_count": 28,
     "metadata": {},
     "output_type": "execute_result"
    }
   ],
   "source": [
    "np.mean(losses)"
   ]
  },
  {
   "cell_type": "markdown",
   "metadata": {},
   "source": [
    "Что дальше?\n",
    "\n",
    "1. Попробовать другие эмбеддинги. Например, [fasttext](https://radimrehurek.com/gensim/models/fasttext.html).\n",
    "2. Добавить больше фильтров. У нас их на все ядра по 2 штуки - как в оригинальной статье. Но можно больше.\n",
    "\n",
    "Кстати, попробуйте поменять оптимизатор с Adam на SGD и посмотрите, насколько хорошо будет идти процесс обучения."
   ]
  },
  {
   "cell_type": "markdown",
   "metadata": {},
   "source": [
    "## Резюме\n",
    "1. Узнали, как разбить текст на токены.\n",
    "2. Узнали, как преобразовать токены в векторы (эмбеддинги) с помощью библиотеки `gensim`.\n",
    "3. Научились строить модель регрессии поверх эмбеддингов (TextCNN).\n",
    "4. Обучили модель, получили неплохое качество."
   ]
  }
 ],
 "metadata": {
  "kernelspec": {
   "display_name": "start-dl-fEQaQ9Q8-py3.10",
   "language": "python",
   "name": "python3"
  },
  "language_info": {
   "codemirror_mode": {
    "name": "ipython",
    "version": 3
   },
   "file_extension": ".py",
   "mimetype": "text/x-python",
   "name": "python",
   "nbconvert_exporter": "python",
   "pygments_lexer": "ipython3",
   "version": "3.10.13"
  }
 },
 "nbformat": 4,
 "nbformat_minor": 2
}
